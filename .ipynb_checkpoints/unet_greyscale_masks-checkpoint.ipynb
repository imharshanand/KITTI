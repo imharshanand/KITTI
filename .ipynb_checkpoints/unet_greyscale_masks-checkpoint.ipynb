{
 "cells": [
  {
   "cell_type": "code",
   "execution_count": null,
   "id": "4005713c-587f-40ed-803e-fa318c913af7",
   "metadata": {},
   "outputs": [],
   "source": [
    "import os\n",
    "import random\n",
    "import cv2\n",
    "import matplotlib.pyplot as plt\n",
    "import numpy as np\n"
   ]
  },
  {
   "cell_type": "code",
   "execution_count": null,
   "id": "f54604bf-369c-4753-85e1-64f64d853fc1",
   "metadata": {},
   "outputs": [],
   "source": [
    "image_folder = 'data_road/processed_data/images'\n",
    "mask_folder = 'data_road/processed_data/masks'\n"
   ]
  },
  {
   "cell_type": "code",
   "execution_count": null,
   "id": "c521a288-2ff0-4caf-87d3-c1401f54d0f2",
   "metadata": {},
   "outputs": [],
   "source": [
    "# Get list of files\n",
    "image_files = os.listdir(image_folder)\n",
    "mask_files = os.listdir(mask_folder)\n",
    "\n",
    "# Randomly select N number (how_many_pairs) of pairs of files\n",
    "how_many_pairs = 1\n",
    "selected_files = random.sample(list(zip(image_files, mask_files)), how_many_pairs)\n",
    "\n",
    "def display_images_and_masks(selected_files, image_folder, mask_folder):\n",
    "    plt.figure(figsize=(20, 10))\n",
    "    \n",
    "    for i, (image_file, mask_file) in enumerate(selected_files):\n",
    "        # Read the image and mask\n",
    "        image_path = os.path.join(image_folder, image_file)\n",
    "        mask_path = os.path.join(mask_folder, mask_file)\n",
    "        \n",
    "        image = cv2.imread(image_path)\n",
    "        mask = cv2.imread(mask_path, cv2.IMREAD_GRAYSCALE)\n",
    "        \n",
    "        # Convert BGR to RGB for display\n",
    "        image_rgb = cv2.cvtColor(image, cv2.COLOR_BGR2RGB)\n",
    "        \n",
    "        # Display image\n",
    "        plt.subplot(5, 2, 2*i + 1)\n",
    "        plt.imshow(image_rgb)\n",
    "        plt.title(f'Image: {image_file}')\n",
    "        plt.axis('off')\n",
    "        \n",
    "        # Display mask\n",
    "        plt.subplot(5, 2, 2*i + 2)\n",
    "        plt.imshow(mask, cmap='gray')\n",
    "        plt.title(f'Mask: {mask_file}')\n",
    "        plt.axis('off')\n",
    "    \n",
    "    plt.show()\n",
    "\n",
    "# Display images and masks\n",
    "display_images_and_masks(selected_files, image_folder, mask_folder)\n"
   ]
  },
  {
   "cell_type": "code",
   "execution_count": null,
   "id": "b84b24bb-bba9-414a-95dd-c9e52bceef08",
   "metadata": {},
   "outputs": [],
   "source": [
    "def count_unique_pixels_in_masks(selected_files, mask_folder):\n",
    "    pixel_counts = {}\n",
    "    \n",
    "    for _, mask_file in selected_files:\n",
    "        # Read the mask\n",
    "        mask_path = os.path.join(mask_folder, mask_file)\n",
    "        mask = cv2.imread(mask_path, cv2.IMREAD_GRAYSCALE)\n",
    "        \n",
    "        # Count unique pixel values\n",
    "        unique, counts = np.unique(mask, return_counts=True)\n",
    "        pixel_count_dict = dict(zip(unique, counts))\n",
    "        \n",
    "        # Merge counts into global dictionary\n",
    "        for pixel_value, count in pixel_count_dict.items():\n",
    "            if pixel_value in pixel_counts:\n",
    "                pixel_counts[pixel_value] += count\n",
    "            else:\n",
    "                pixel_counts[pixel_value] = count\n",
    "    \n",
    "    # Sort pixel values by count in descending order\n",
    "    sorted_pixel_counts = sorted(pixel_counts.items(), key=lambda item: item[1], reverse=True)\n",
    "    \n",
    "    # Display top 10 pixel values\n",
    "    print(\"Top 10 Unique Pixel Values in Masks (Value: Count):\")\n",
    "    for value, count in sorted_pixel_counts[:10]:\n",
    "        print(f\"{value}: {count}\")\n",
    "\n",
    "# Count and display unique pixel values\n",
    "count_unique_pixels_in_masks(selected_files, mask_folder)\n"
   ]
  },
  {
   "cell_type": "code",
   "execution_count": null,
   "id": "8f05dbf6-2cff-4707-8fa5-53cc5925efc6",
   "metadata": {},
   "outputs": [],
   "source": []
  }
 ],
 "metadata": {
  "kernelspec": {
   "display_name": "Python 3 (ipykernel)",
   "language": "python",
   "name": "python3"
  },
  "language_info": {
   "codemirror_mode": {
    "name": "ipython",
    "version": 3
   },
   "file_extension": ".py",
   "mimetype": "text/x-python",
   "name": "python",
   "nbconvert_exporter": "python",
   "pygments_lexer": "ipython3",
   "version": "3.9.19"
  }
 },
 "nbformat": 4,
 "nbformat_minor": 5
}
